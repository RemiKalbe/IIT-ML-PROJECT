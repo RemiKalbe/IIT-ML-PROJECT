{
 "cells": [
  {
   "cell_type": "code",
   "execution_count": 4,
   "metadata": {},
   "outputs": [],
   "source": [
    "from lib.graph.graph.graph import Graph\n",
    "from lib.gnnanalyzer.gnnanalyzer.localgnnanalyzer import LocalGNNAnalyzer\n",
    "from lib.gnnanalyzer.gnnanalyzer.localimpactcalculator import (\n",
    "    LocalImpactCalculator,\n",
    "    LocalImpactCalculationMethod,\n",
    ")"
   ]
  },
  {
   "cell_type": "code",
   "execution_count": 2,
   "metadata": {},
   "outputs": [],
   "source": [
    "g = Graph()\n",
    "g.import_edges_from_edge_list(\n",
    "    data=\"./datasets/cora/cora.cites\",\n",
    "    source_target_col=(0, 1),\n",
    "    override_data_file_extension=\".txt\",\n",
    "    delimiter=\"\t\",\n",
    ")"
   ]
  },
  {
   "cell_type": "code",
   "execution_count": 5,
   "metadata": {},
   "outputs": [],
   "source": [
    "impact = LocalImpactCalculator(method=LocalImpactCalculationMethod.ABSOLUTE_DIFFERENCE)\n",
    "analyzer = LocalGNNAnalyzer(graph=g, local_impact_calculator=impact)"
   ]
  },
  {
   "cell_type": "code",
   "execution_count": null,
   "metadata": {},
   "outputs": [],
   "source": []
  }
 ],
 "metadata": {
  "kernelspec": {
   "display_name": ".venv",
   "language": "python",
   "name": "python3"
  },
  "language_info": {
   "codemirror_mode": {
    "name": "ipython",
    "version": 3
   },
   "file_extension": ".py",
   "mimetype": "text/x-python",
   "name": "python",
   "nbconvert_exporter": "python",
   "pygments_lexer": "ipython3",
   "version": "3.10.4"
  }
 },
 "nbformat": 4,
 "nbformat_minor": 2
}
