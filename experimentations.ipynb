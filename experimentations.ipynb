{
 "cells": [
  {
   "cell_type": "markdown",
   "metadata": {},
   "source": [
    "## Initialize the Graph, ImpactCalculator and GNNAnalyzer\n"
   ]
  },
  {
   "cell_type": "code",
   "execution_count": 1,
   "metadata": {},
   "outputs": [],
   "source": [
    "from lib.graph.graph.graph import Graph\n",
    "from lib.gnnanalyzer.gnnanalyzer.localgnnanalyzer import LocalGNNAnalyzer\n",
    "from lib.gnnanalyzer.gnnanalyzer.localimpactcalculator import (\n",
    "    LocalImpactCalculator,\n",
    "    LocalImpactCalculationMethod,\n",
    ")"
   ]
  },
  {
   "cell_type": "code",
   "execution_count": 7,
   "metadata": {},
   "outputs": [],
   "source": [
    "NODE_IDX = 0  # Index for the identifier column in nodes\n",
    "NODE_FEATURE_START_IDX = 1  # Start index for node features columns\n",
    "NODE_FEATURE_END_IDX = 1433  # End index for node features columns\n",
    "CLASS_IDX = 1434  # Index for the class column in nodes\n",
    "SOURCE_IDX = 0  # Index for the source column in edges\n",
    "TARGET_IDX = 1  # Index for the target column in edges"
   ]
  },
  {
   "cell_type": "code",
   "execution_count": 2,
   "metadata": {},
   "outputs": [],
   "source": [
    "g = Graph()\n",
    "g.import_edges_from_edge_list(\n",
    "    data=\"./datasets/cora/cora.cites\",\n",
    "    source_target_col=(SOURCE_IDX, TARGET_IDX),\n",
    "    override_data_file_extension=\".txt\",\n",
    "    delimiter=\"\t\",\n",
    ")\n",
    "g.import_nodes_from_node_list(\n",
    "    data=\"./datasets/cora/cora.content\",\n",
    "    node_identifier_col=NODE_IDX,\n",
    "    features_cols=[i for i in range(NODE_FEATURE_START_IDX, NODE_FEATURE_END_IDX)],\n",
    "    class_col=CLASS_IDX,\n",
    "    override_data_file_extension=\".txt\",\n",
    "    delimiter=\"\t\",\n",
    ")\n",
    "\n",
    "# To please PyLance\n",
    "assert g.nodes is not None\n",
    "assert g.edges is not None\n",
    "assert g.nodes.columns is not None\n",
    "assert g.edges.columns is not None"
   ]
  },
  {
   "cell_type": "code",
   "execution_count": 3,
   "metadata": {},
   "outputs": [],
   "source": [
    "impact = LocalImpactCalculator(method=LocalImpactCalculationMethod.ABSOLUTE_DIFFERENCE)\n",
    "analyzer = LocalGNNAnalyzer(graph=g, local_impact_calculator=impact)"
   ]
  },
  {
   "cell_type": "markdown",
   "metadata": {},
   "source": [
    "## Initial testings\n"
   ]
  },
  {
   "cell_type": "markdown",
   "metadata": {},
   "source": [
    "### Creation of a basic model\n"
   ]
  },
  {
   "cell_type": "code",
   "execution_count": 4,
   "metadata": {},
   "outputs": [],
   "source": [
    "from lib.graph.graph.graph import ExportFileFormat\n",
    "from torch_geometric.nn import GCNConv, global_mean_pool\n",
    "from torch_geometric.data import Data\n",
    "import torch\n",
    "import torch.nn.functional as F\n",
    "import polars as pl"
   ]
  },
  {
   "cell_type": "code",
   "execution_count": 5,
   "metadata": {},
   "outputs": [],
   "source": [
    "# Define the GNN model\n",
    "class GNNModel(torch.nn.Module):\n",
    "    def __init__(self, input_dim, hidden_dim, output_dim):\n",
    "        super(GNNModel, self).__init__()\n",
    "        self.conv1 = GCNConv(input_dim, hidden_dim)\n",
    "        self.conv2 = GCNConv(hidden_dim, output_dim)\n",
    "\n",
    "    def forward(self, data):\n",
    "        x, edge_index = data.x, data.edge_index\n",
    "        x = F.relu(self.conv1(x, edge_index))\n",
    "        x = F.dropout(x, training=self.training)\n",
    "        x = self.conv2(x, edge_index)\n",
    "        return F.log_softmax(x, dim=1)"
   ]
  },
  {
   "cell_type": "code",
   "execution_count": 6,
   "metadata": {},
   "outputs": [
    {
     "name": "stdout",
     "output_type": "stream",
     "text": [
      "shape: (2_708, 1_435)\n",
      "┌─────────┬───────────┬───────────┬───────────┬───┬────────────┬───────────┬───────────┬───────────┐\n",
      "│ Node    ┆ Feature 0 ┆ Feature 1 ┆ Feature 2 ┆ … ┆ Feature    ┆ Feature   ┆ Feature   ┆ Class     │\n",
      "│ ---     ┆ ---       ┆ ---       ┆ ---       ┆   ┆ 1430       ┆ 1431      ┆ 1432      ┆ ---       │\n",
      "│ i64     ┆ i64       ┆ i64       ┆ i64       ┆   ┆ ---        ┆ ---       ┆ ---       ┆ str       │\n",
      "│         ┆           ┆           ┆           ┆   ┆ i64        ┆ i64       ┆ i64       ┆           │\n",
      "╞═════════╪═══════════╪═══════════╪═══════════╪═══╪════════════╪═══════════╪═══════════╪═══════════╡\n",
      "│ 31336   ┆ 0         ┆ 0         ┆ 0         ┆ … ┆ 0          ┆ 0         ┆ 0         ┆ Neural_Ne │\n",
      "│         ┆           ┆           ┆           ┆   ┆            ┆           ┆           ┆ tworks    │\n",
      "│ 1061127 ┆ 0         ┆ 0         ┆ 0         ┆ … ┆ 0          ┆ 0         ┆ 0         ┆ Rule_Lear │\n",
      "│         ┆           ┆           ┆           ┆   ┆            ┆           ┆           ┆ ning      │\n",
      "│ 1106406 ┆ 0         ┆ 0         ┆ 0         ┆ … ┆ 0          ┆ 0         ┆ 0         ┆ Reinforce │\n",
      "│         ┆           ┆           ┆           ┆   ┆            ┆           ┆           ┆ ment_Lear │\n",
      "│         ┆           ┆           ┆           ┆   ┆            ┆           ┆           ┆ ning      │\n",
      "│ 13195   ┆ 0         ┆ 0         ┆ 0         ┆ … ┆ 0          ┆ 0         ┆ 0         ┆ Reinforce │\n",
      "│         ┆           ┆           ┆           ┆   ┆            ┆           ┆           ┆ ment_Lear │\n",
      "│         ┆           ┆           ┆           ┆   ┆            ┆           ┆           ┆ ning      │\n",
      "│ …       ┆ …         ┆ …         ┆ …         ┆ … ┆ …          ┆ …         ┆ …         ┆ …         │\n",
      "│ 1128977 ┆ 0         ┆ 0         ┆ 0         ┆ … ┆ 0          ┆ 0         ┆ 0         ┆ Genetic_A │\n",
      "│         ┆           ┆           ┆           ┆   ┆            ┆           ┆           ┆ lgorithms │\n",
      "│ 1128978 ┆ 0         ┆ 0         ┆ 0         ┆ … ┆ 0          ┆ 0         ┆ 0         ┆ Genetic_A │\n",
      "│         ┆           ┆           ┆           ┆   ┆            ┆           ┆           ┆ lgorithms │\n",
      "│ 117328  ┆ 0         ┆ 0         ┆ 0         ┆ … ┆ 0          ┆ 0         ┆ 0         ┆ Case_Base │\n",
      "│         ┆           ┆           ┆           ┆   ┆            ┆           ┆           ┆ d         │\n",
      "│ 24043   ┆ 0         ┆ 0         ┆ 0         ┆ … ┆ 0          ┆ 0         ┆ 0         ┆ Neural_Ne │\n",
      "│         ┆           ┆           ┆           ┆   ┆            ┆           ┆           ┆ tworks    │\n",
      "└─────────┴───────────┴───────────┴───────────┴───┴────────────┴───────────┴───────────┴───────────┘\n",
      "shape: (5_429, 2)\n",
      "┌────────┬─────────┐\n",
      "│ Source ┆ Target  │\n",
      "│ ---    ┆ ---     │\n",
      "│ i64    ┆ i64     │\n",
      "╞════════╪═════════╡\n",
      "│ 35     ┆ 1033    │\n",
      "│ 35     ┆ 103482  │\n",
      "│ 35     ┆ 103515  │\n",
      "│ 35     ┆ 1050679 │\n",
      "│ …      ┆ …       │\n",
      "│ 853116 ┆ 853155  │\n",
      "│ 853118 ┆ 1140289 │\n",
      "│ 853155 ┆ 853118  │\n",
      "│ 954315 ┆ 1155073 │\n",
      "└────────┴─────────┘\n"
     ]
    }
   ],
   "source": [
    "# Let's see how is our datasets once exported\n",
    "\n",
    "nodes_df = g.export_nodes_as_node_list(ExportFileFormat.POLARS_DF)\n",
    "edges_df = g.export_edges_as_edge_list(ExportFileFormat.POLARS_DF)\n",
    "\n",
    "assert isinstance(nodes_df, pl.DataFrame)\n",
    "assert isinstance(edges_df, pl.DataFrame)\n",
    "\n",
    "print(nodes_df)\n",
    "print(edges_df)"
   ]
  },
  {
   "cell_type": "code",
   "execution_count": 14,
   "metadata": {},
   "outputs": [],
   "source": [
    "# idx to column name\n",
    "nodes_idx_to_col_name = {idx: col_name for idx, col_name in enumerate(nodes_df.columns)}  # type: ignore\n",
    "\n",
    "edges_idx_to_col_name = {idx: col_name for idx, col_name in enumerate(edges_df.columns)}  # type: ignore"
   ]
  },
  {
   "cell_type": "code",
   "execution_count": null,
   "metadata": {},
   "outputs": [],
   "source": [
    "def create_torch_geometric_data(\n",
    "    graph: Graph,\n",
    "    class_idx: int,\n",
    "    node_col_idx: int,\n",
    "    node_feature_start_idx: int,\n",
    "    node_feature_end_idx: int,\n",
    "    source_idx: int,\n",
    "    target_idx: int,\n",
    ") -> Data:\n",
    "    # Export the nodes and edges to the desired format\n",
    "    nodes_df = graph.export_nodes_as_node_list(ExportFileFormat.PANDAS_DF)\n",
    "    edges_df = graph.export_edges_as_edge_list(ExportFileFormat.PANDAS_DF)\n",
    "\n",
    "    assert isinstance(nodes_df, pl.DataFrame)\n",
    "    assert isinstance(edges_df, pl.DataFrame)\n",
    "\n",
    "    # From nodes idx to column name\n",
    "    nodes_col_node_name = nodes_idx_to_col_name[node_col_idx]\n",
    "    nodes_col_class_name = nodes_idx_to_col_name[class_idx]\n",
    "    node_col_features_name = [\n",
    "        nodes_idx_to_col_name[i]\n",
    "        for i in range(node_feature_start_idx, node_feature_end_idx)\n",
    "    ]\n",
    "\n",
    "    # From edges idx to column name\n",
    "    edges_col_source_name = edges_idx_to_col_name[source_idx]\n",
    "    edges_col_target_name = edges_idx_to_col_name[target_idx]\n",
    "\n",
    "    # Process the nodes DataFrame\n",
    "    x = torch.tensor(\n",
    "        nodes_df.select(node_col_features_name).item(),\n",
    "        dtype=torch.float,\n",
    "    )\n",
    "    y = torch.tensor(nodes_df.select(nodes_col_class_name).item(), dtype=torch.long)\n",
    "\n",
    "    # Process the edges DataFrame\n",
    "    edge_index = (\n",
    "        torch.tensor(\n",
    "            edges_df.select([edges_col_source_name, edges_col_target_name]).item(),\n",
    "            dtype=torch.long,\n",
    "        )\n",
    "        .t()\n",
    "        .contiguous()\n",
    "    )\n",
    "\n",
    "    data = Data(x=x, edge_index=edge_index, y=y)\n",
    "    return data"
   ]
  },
  {
   "cell_type": "code",
   "execution_count": null,
   "metadata": {},
   "outputs": [],
   "source": [
    "# Initialize the GNN model with the appropriate dimensions\n",
    "input_dim = g.get_node_feature_count()  # Number of features\n",
    "output_dim = (\n",
    "    g.get_node_feature_count()\n",
    ")  # Number of classes, assuming a 'label' column exists\n",
    "hidden_dim = 16  # Example hidden dimension size\n",
    "model = GNNModel(input_dim, hidden_dim, output_dim)\n",
    "\n",
    "# Train the GNN model on the Cora dataset\n",
    "data = dataset[0]\n",
    "optimizer = torch.optim.Adam(model.parameters(), lr=0.01, weight_decay=5e-4)\n",
    "\n",
    "model.train()\n",
    "for epoch in range(200):\n",
    "    optimizer.zero_grad()\n",
    "    out = model(data)\n",
    "    loss = F.nll_loss(out[data.train_mask], data.y[data.train_mask])\n",
    "    loss.backward()\n",
    "    optimizer.step()"
   ]
  },
  {
   "cell_type": "code",
   "execution_count": null,
   "metadata": {},
   "outputs": [],
   "source": [
    "# Step 7: Integrate the trained model with the LocalGNNAnalyzer\n",
    "def predict_fn(node_features, edge_index):\n",
    "    # Prepare a tensor for node_features and edge_index based on GNN requirements\n",
    "    # Example: For PyG, use the following, adapted for the complete graph.\n",
    "    model.eval()\n",
    "    with torch.no_grad():\n",
    "        out = model(data)\n",
    "    return out\n",
    "\n",
    "\n",
    "# Assuming we run the ablation step for node 5 (as an example)\n",
    "analyzer.prepare_ablation_plan(starting_node=\"5\", max_depth=3)\n",
    "while analyzer.has_next_step():\n",
    "    current_prediction = predict_fn(data.x, data.edge_index)\n",
    "    analyzer.execute_ablation_step(current_prediction)\n",
    "\n",
    "# Get the interpretation of the GNN's predictions\n",
    "interpretation = analyzer.get_interpretation()\n",
    "print(interpretation)"
   ]
  }
 ],
 "metadata": {
  "kernelspec": {
   "display_name": ".venv",
   "language": "python",
   "name": "python3"
  },
  "language_info": {
   "codemirror_mode": {
    "name": "ipython",
    "version": 3
   },
   "file_extension": ".py",
   "mimetype": "text/x-python",
   "name": "python",
   "nbconvert_exporter": "python",
   "pygments_lexer": "ipython3",
   "version": "3.10.4"
  }
 },
 "nbformat": 4,
 "nbformat_minor": 2
}
